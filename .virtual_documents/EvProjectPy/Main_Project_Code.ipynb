





import matplotlib.pyplot as plt
import pandas as pd
import scipy.stats as st
from pathlib import Path
import numpy as np

# Data file path
EV_path = "Resources/Electric_Vehicle_Population_Data.csv"

# Read the CSV into a Pandas DataFrame
EV_df = pd.read_csv(EV_path, low_memory=False)

# Print the first five rows of data to the screen
EV_df.head()


# Create a field to keep tracl of both Make and Model of the EV and then grouped the initial dataset to the count per Make_Model to create the popularity bar chart
EV_df['Make_Model']=EV_df['Make']+' / ' +EV_df['Model']
groupedEV_count = EV_df.groupby('Make_Model')['VIN (1-10)'].count().reset_index(name='Count')
groupedEV_count.head()


# Values for the grouped EV dataframe were sorted and only the top 15 were kept to create the popularity bar graph
groupedEV_count = groupedEV_count.sort_values(by='Count', ascending=False)
popularEV_15=groupedEV_count.head(15)
popularEV_15.head(15)


# Create array for x-axis
x_axis = np.arange(len(popularEV_15))

# Tell matplotlib that we will be making a bar chart
# We apply align="center" to ensure our bars line up with our tick marks

bars = plt.bar(x_axis, popularEV_15["Count"], color='teal', alpha=0.5, align="center")

# Tell matplotlib where we would like to place each of our x axis headers
tick_locations = [value for value in x_axis]
plt.xticks(tick_locations,popularEV_15["Make_Model"] ,rotation=75)

# Give our chart some labels and a tile
plt.title("Top 15 Popular Electric Vehicles",color="teal",fontweight='bold')
plt.xlabel("EV Make_Models",color="teal")
plt.ylabel("#EV",color="teal")

# Add values on top of the bars
for bar in bars:
    yval = bar.get_height()  # Get the height of the bar
    plt.text(bar.get_x() + bar.get_width() / 2, yval, yval, 
             ha='center', va='bottom',fontsize=8,color="black")  # Add text at the top of the bar
    
plt.tight_layout()
plt.savefig("Outputs/Top15_Popular_EVs.png")
plt.show()



labels=popularEV_15['Make_Model']
sizes=popularEV_15['Count']
colors = [
    "teal",
    "cadetblue",
    "steelblue",
    "paleturquoise",
    "lightblue",
    "lightcyan",
    "darkgoldenrod",
    "goldenrod",
    "gold",
    "khaki",
    "burlywood",
    "navajowhite",
    "bisque",
    "linen",
    "whitesmoke"
]
plt.figure(figsize=(12, 8))
wedges, texts, autotexts = plt.pie(sizes, colors=colors, autopct='%1.0f%%', startangle=90)
plt.setp(texts, size=10)  # Set size of the labels
plt.setp(autotexts, size=8, weight='bold', color='black')  # Style the percentage labels
plt.legend(wedges, labels, title="Categories", loc="best", fontsize=10)
plt.axis("equal")
plt.savefig("Outputs/Top15_Popular_EVs%Pie.png")
plt.show()



# Narrowed down the initial list with only Make_Models that have an Electric Range >0 and created a summary statistics to determine which cars will be used for the Electric Range vs Poularity correlation
ev_popularity_stats=EV_df[EV_df["Electric Range"]>0]

summary_stats = ['mean','median','var','std','sem']
agg_ev_popularity=ev_popularity_stats.groupby(['Make_Model']).agg({'Electric Range': summary_stats})

agg_ev_popularity.columns = ['_'.join(col).strip() for col in agg_ev_popularity.columns.values]
agg_ev_popularity.to_csv("Outputs/summarystats.csv")
agg_ev_popularity


#Keep Make_models with sem <0.1
cars_for_correlation = agg_ev_popularity[agg_ev_popularity["Electric Range_sem"]<0.1]
selected_cars = cars_for_correlation.iloc[:,[0]]
selected_cars.head()


#Merge the selected cars and the grouped cars to create a table for the correlation 

merge = pd.merge(groupedEV_count,selected_cars, on='Make_Model', how='left')
merge1 = merge.dropna()
merge1=merge1.reset_index(drop=True)
#merge1


# Create x and y values for the correlation chart
x_values = merge1['Count']
y_values = merge1['Electric Range_mean']

# Perform a linear regression on Model Count vs. Average Range
(slope, intercept, rvalue, pvalue, stderr) = st.linregress(x_values, y_values)

# Get regression values
regress_values = x_values * slope + intercept
#print(regress_values)

# Create line equation string
line_eq = "y = " + str(round(slope,2)) + "x +" + str(round(intercept,2))
print(line_eq)

# Create Plot
plt.scatter(x_values,y_values)
plt.plot(x_values,regress_values,"r-")

# Label plot and annotate the line equation
plt.xlabel('EV Count')
plt.ylabel('Avg. Range')
plt.annotate(line_eq,(20,15),fontsize=15,color="red")
plt.title(f"EV Count vs Avg Range")

# Print r^2 value
print(f"The r^2-value is: {rvalue**2}")

# Show plot
plt.savefig("Outputs/EVcount_VS_AvgElectricRange.png")
plt.show()



# While it's not very high, 22% suggests that the model explains some variability, but there’s a significant amount of unexplained variance (78%). 
# This means other factors or variables not included in the model may play a role in influencing the "popularity" of EVs.





























import pandas as pd
import matplotlib.pyplot as plt
import numpy as np
from pathlib import Path


# Load the dataset from the URL

url = "https://data.wa.gov/api/views/rpr4-cgyd/rows.csv?accessType=DOWNLOAD"
title_registration_data = pd.read_csv(url)

# Inspect the dataset structure
title_registration_data.head()


# Filter the dataset to only include rows where 'New or Used Vehicle' is 'New'
new_vehicles_data = title_registration_data[title_registration_data['New or Used Vehicle'] == 'New']

# Display the head of the filtered data
new_vehicles_data.head()


# Select only the relevant columns
cleaned_data = new_vehicles_data[['VIN (1-10)', 'DOL Vehicle ID', 'Model Year', 'Make', 'Model', 
                                        'New or Used Vehicle', 'Sale Date', 'Transaction Type', 
                                        'Transaction Date', 'Year', 'County', 'City', 'Postal Code']]

# Remove duplicates based on the 'VIN (1-10)' column
cleaned_new_vehicles = cleaned_data.drop_duplicates(subset='VIN (1-10)', keep='first').reset_index()

# Save the cleaned data to a new CSV file in 'Resources'
cleaned_new_vehicles.to_csv('Resources/cleaned_new_vehicle_data.csv', index=False)

# Display the first few rows of the cleaned dataset without duplicates
cleaned_new_vehicles


#File location
ev_file = Path("Resources/cleaned_new_vehicle_data.csv")
#Read in CSV and print df
new_evs = pd.read_csv(ev_file)
new_evs.head()


#Count number of individual years in the data set
new_evs['Year'].nunique()


#Group data by 'Year' and count occurences
vehicles_per_year = new_evs.groupby('Year').size()


#Plot a bar graph
vehicles_per_year.plot(kind='bar', color='g', edgecolor='black')
plt.title('Number of New Vehicles Purchased per Year in WA')
plt.xlabel('Model Year')
plt.ylabel('Number of New Vehicles Purchased')
plt.xticks(rotation=45)  
plt.grid(axis='y')  
plt.tight_layout()  
plt.savefig("Outputs/New_Vehicles_bar.png")
plt.show()



#Get the correlation coefficient between years and number of vehicles sold
vehicles_df = vehicles_per_year.reset_index(name='Number of Vehicles Sold')
correlation = vehicles_df['Year'].corr(vehicles_df['Number of Vehicles Sold'])
print(f"Correlation Coefficient between Year and Number of Vehicles Sold: {correlation:.2f}")

#Line graph of vehicle sales over time
new_evs['Transaction Date'] = pd.to_datetime(new_evs['Transaction Date'], errors='coerce')
sales_over_time = new_evs.groupby(new_evs['Transaction Date'].dt.year).size()

plt.figure(figsize=(10, 6))
sales_over_time.plot(kind='line', marker='o', color='r')
plt.title('Vehicle Sales Over Time in WA')
plt.xlabel('Year')
plt.ylabel('Number of Vehicles Sold')
plt.grid()
plt.savefig("Outputs/EV_sales_over_time.png")
plt.show()


#visualization of new vehicle purchases by county
vehicles_by_county = new_evs['County'].value_counts()
plt.figure(figsize=(12, 6))
vehicles_by_county.plot(kind='bar', color='lightgreen', edgecolor='black')
plt.title('Number of New Vehicles Purchased per WA County')
plt.xlabel('County')
plt.ylabel('Number of Vehicles Purchased')
plt.xticks(rotation=90)
plt.grid(axis='y')
plt.savefig("Outputs/New_EV_per_county.png")
plt.show()



