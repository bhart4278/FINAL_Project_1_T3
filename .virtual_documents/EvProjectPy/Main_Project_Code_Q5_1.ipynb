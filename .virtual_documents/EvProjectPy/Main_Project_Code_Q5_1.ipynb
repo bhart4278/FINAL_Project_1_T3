# Dependencies
import hvplot.pandas
import holoviews as hv
import pandas as pd
from pathlib import Path
import numpy as np
from configfg import DATAWAGOV_KEY

# Turn off warning messages
import warnings
warnings.filterwarnings("ignore")

# Load the dataset from API
url = "https://data.wa.gov/api/views/f6w7-q2d2/rows.csv?accessType=DOWNLOAD"
ev_df = pd.read_csv(url)

# Inspect the dataset structure
ev_df.head()


# Get a list of all of our columns for easy reference
ev_df.columns


# Extract "VIN", "County", and "Vehicle Location"
ev_df_red = ev_df.loc[:, ["VIN (1-10)", "State", "County", "Vehicle Location"]]
ev_df_red.count()


# Create a new DataFrame that looks into for only WA
ev_df_wa = ev_df_red.loc[ev_df_red["State"] == "WA"]
ev_df_wa.count()


# Rename Vehicle Location column
ev_df_wa = ev_df_wa.rename(columns={"Vehicle Location":"VehLoc"})
ev_df_wa.head()


# Split Vehicle Location Column into two columns named "Longitude" and "Latitude"
ev_df_wa[['VehLoc','LongLat']] = ev_df_wa.VehLoc.str.split('\(|\)', expand=True).iloc[:,[0,1]]
ev_df_wa[['Longitude','Latitude']] = ev_df_wa.LongLat.str.split(' ', expand=True).iloc[:,[0,1]]

# Extract "VIN", "County", "Longitude", and "Latitude"
ev_df_coordinates = ev_df_wa.loc[:, ["VIN (1-10)", "County", "Longitude", "Latitude"]]

ev_df_coordinates.dtypes


# Convert Longitude and Latitude columns to Float
ev_df_coordinates = ev_df_coordinates.astype({"Longitude": "float",
                                              "Latitude": "float"})
ev_df_coordinates.dtypes


# Save GroupBy data to CSV to be used for Bar Graph
ev_df_coordinates.to_csv("Resources/WAEV_COUNTY_INFO.csv", index=True)


# Configure the map plot
map_plot = ev_df_coordinates.hvplot.points(
    "Longitude", 
    "Latitude", 
    geo = True, 
    tiles = "OSM", 
    frame_width = 1200, 
    frame_height = 600,
)

# Save Map Plot to PNG
hv.save(map_plot, 'Images/WAEV_BYCOUNTY_MAP.png', backend='bokeh')

# Display the Map Plot
map_plot



