{
 "cells": [
  {
   "cell_type": "code",
   "execution_count": 1,
   "id": "6f35e360-0866-4f9f-b382-fbf32918df7f",
   "metadata": {
    "editable": true,
    "slideshow": {
     "slide_type": ""
    },
    "tags": []
   },
   "outputs": [
    {
     "data": {
      "text/plain": [
       "Index(['Unnamed: 0', 'VIN (1-10)', 'County', 'Longitude', 'Latitude'], dtype='object')"
      ]
     },
     "execution_count": 1,
     "metadata": {},
     "output_type": "execute_result"
    }
   ],
   "source": [
    "# Dependencies\n",
    "import pandas as pd\n",
    "from pathlib import Path\n",
    "import matplotlib.pyplot as plt\n",
    "import numpy as np\n",
    "\n",
    "# WA County EV Data file path\n",
    "WAEV_path = \"Resources/WAEV_COUNTY_INFO.csv\"\n",
    "\n",
    "# Read the CSV into a Pandas DataFrame\n",
    "WAEV_df = pd.read_csv(WAEV_path, low_memory=False)\n",
    "\n",
    "# Print the first five rows of data to the screen\n",
    "WAEV_df.columns"
   ]
  },
  {
   "cell_type": "code",
   "execution_count": 2,
   "id": "a96d229c-0a82-49d1-953e-c9f316dc14ac",
   "metadata": {},
   "outputs": [
    {
     "data": {
      "text/html": [
       "<div>\n",
       "<style scoped>\n",
       "    .dataframe tbody tr th:only-of-type {\n",
       "        vertical-align: middle;\n",
       "    }\n",
       "\n",
       "    .dataframe tbody tr th {\n",
       "        vertical-align: top;\n",
       "    }\n",
       "\n",
       "    .dataframe thead th {\n",
       "        text-align: right;\n",
       "    }\n",
       "</style>\n",
       "<table border=\"1\" class=\"dataframe\">\n",
       "  <thead>\n",
       "    <tr style=\"text-align: right;\">\n",
       "      <th></th>\n",
       "      <th>VIN (1-10)</th>\n",
       "      <th>County</th>\n",
       "    </tr>\n",
       "  </thead>\n",
       "  <tbody>\n",
       "    <tr>\n",
       "      <th>0</th>\n",
       "      <td>5UXTA6C0XM</td>\n",
       "      <td>Kitsap</td>\n",
       "    </tr>\n",
       "    <tr>\n",
       "      <th>1</th>\n",
       "      <td>5YJ3E1EB1J</td>\n",
       "      <td>Kitsap</td>\n",
       "    </tr>\n",
       "    <tr>\n",
       "      <th>2</th>\n",
       "      <td>WP0AD2A73G</td>\n",
       "      <td>Snohomish</td>\n",
       "    </tr>\n",
       "    <tr>\n",
       "      <th>3</th>\n",
       "      <td>5YJ3E1EB5J</td>\n",
       "      <td>Kitsap</td>\n",
       "    </tr>\n",
       "    <tr>\n",
       "      <th>4</th>\n",
       "      <td>1N4AZ1CP3K</td>\n",
       "      <td>King</td>\n",
       "    </tr>\n",
       "  </tbody>\n",
       "</table>\n",
       "</div>"
      ],
      "text/plain": [
       "   VIN (1-10)     County\n",
       "0  5UXTA6C0XM     Kitsap\n",
       "1  5YJ3E1EB1J     Kitsap\n",
       "2  WP0AD2A73G  Snohomish\n",
       "3  5YJ3E1EB5J     Kitsap\n",
       "4  1N4AZ1CP3K       King"
      ]
     },
     "execution_count": 2,
     "metadata": {},
     "output_type": "execute_result"
    }
   ],
   "source": [
    "# Extract \"VIN\" and \"County\"\n",
    "WAEV_red = WAEV_df.loc[:, [\"VIN (1-10)\", \"County\"]]\n",
    "WAEV_red.head()"
   ]
  },
  {
   "cell_type": "code",
   "execution_count": 3,
   "id": "9a4745a5-03e8-40e2-91af-96f98a8822e6",
   "metadata": {},
   "outputs": [
    {
     "data": {
      "text/html": [
       "<div>\n",
       "<style scoped>\n",
       "    .dataframe tbody tr th:only-of-type {\n",
       "        vertical-align: middle;\n",
       "    }\n",
       "\n",
       "    .dataframe tbody tr th {\n",
       "        vertical-align: top;\n",
       "    }\n",
       "\n",
       "    .dataframe thead th {\n",
       "        text-align: right;\n",
       "    }\n",
       "</style>\n",
       "<table border=\"1\" class=\"dataframe\">\n",
       "  <thead>\n",
       "    <tr style=\"text-align: right;\">\n",
       "      <th></th>\n",
       "      <th>VIN</th>\n",
       "      <th>County</th>\n",
       "    </tr>\n",
       "  </thead>\n",
       "  <tbody>\n",
       "    <tr>\n",
       "      <th>0</th>\n",
       "      <td>5UXTA6C0XM</td>\n",
       "      <td>Kitsap</td>\n",
       "    </tr>\n",
       "    <tr>\n",
       "      <th>1</th>\n",
       "      <td>5YJ3E1EB1J</td>\n",
       "      <td>Kitsap</td>\n",
       "    </tr>\n",
       "    <tr>\n",
       "      <th>2</th>\n",
       "      <td>WP0AD2A73G</td>\n",
       "      <td>Snohomish</td>\n",
       "    </tr>\n",
       "    <tr>\n",
       "      <th>3</th>\n",
       "      <td>5YJ3E1EB5J</td>\n",
       "      <td>Kitsap</td>\n",
       "    </tr>\n",
       "    <tr>\n",
       "      <th>4</th>\n",
       "      <td>1N4AZ1CP3K</td>\n",
       "      <td>King</td>\n",
       "    </tr>\n",
       "  </tbody>\n",
       "</table>\n",
       "</div>"
      ],
      "text/plain": [
       "          VIN     County\n",
       "0  5UXTA6C0XM     Kitsap\n",
       "1  5YJ3E1EB1J     Kitsap\n",
       "2  WP0AD2A73G  Snohomish\n",
       "3  5YJ3E1EB5J     Kitsap\n",
       "4  1N4AZ1CP3K       King"
      ]
     },
     "execution_count": 3,
     "metadata": {},
     "output_type": "execute_result"
    }
   ],
   "source": [
    "# Rename column \"VIN (1-10)\" to \"VIN\"\n",
    "WAEV_red = WAEV_red.rename(columns={\"VIN (1-10)\": \"VIN\"})\n",
    "WAEV_red.head()"
   ]
  },
  {
   "cell_type": "code",
   "execution_count": 4,
   "id": "40d05a69-bb25-44f7-b05c-d4bfd553a033",
   "metadata": {},
   "outputs": [
    {
     "data": {
      "text/plain": [
       "VIN       object\n",
       "County    object\n",
       "dtype: object"
      ]
     },
     "execution_count": 4,
     "metadata": {},
     "output_type": "execute_result"
    }
   ],
   "source": [
    "# Check column datatypes\n",
    "WAEV_red.dtypes"
   ]
  },
  {
   "cell_type": "code",
   "execution_count": 5,
   "id": "52d759f7-e587-4afa-aaef-a1336f9cbc9c",
   "metadata": {},
   "outputs": [
    {
     "data": {
      "text/plain": [
       "VIN               object\n",
       "County    string[python]\n",
       "dtype: object"
      ]
     },
     "execution_count": 5,
     "metadata": {},
     "output_type": "execute_result"
    }
   ],
   "source": [
    "# Convert \"County\" datatype to string\n",
    "WAEV_red = WAEV_red.astype({\"County\": \"string\",})\n",
    "WAEV_red.dtypes"
   ]
  },
  {
   "cell_type": "code",
   "execution_count": 6,
   "id": "ca37738e-5c7e-4c0b-9d6a-d68d6d08c0fa",
   "metadata": {},
   "outputs": [
    {
     "data": {
      "text/html": [
       "<div>\n",
       "<style scoped>\n",
       "    .dataframe tbody tr th:only-of-type {\n",
       "        vertical-align: middle;\n",
       "    }\n",
       "\n",
       "    .dataframe tbody tr th {\n",
       "        vertical-align: top;\n",
       "    }\n",
       "\n",
       "    .dataframe thead th {\n",
       "        text-align: right;\n",
       "    }\n",
       "</style>\n",
       "<table border=\"1\" class=\"dataframe\">\n",
       "  <thead>\n",
       "    <tr style=\"text-align: right;\">\n",
       "      <th></th>\n",
       "      <th>County</th>\n",
       "      <th>VIN</th>\n",
       "    </tr>\n",
       "  </thead>\n",
       "  <tbody>\n",
       "    <tr>\n",
       "      <th>0</th>\n",
       "      <td>Adams</td>\n",
       "      <td>66</td>\n",
       "    </tr>\n",
       "    <tr>\n",
       "      <th>1</th>\n",
       "      <td>Asotin</td>\n",
       "      <td>87</td>\n",
       "    </tr>\n",
       "    <tr>\n",
       "      <th>2</th>\n",
       "      <td>Benton</td>\n",
       "      <td>2624</td>\n",
       "    </tr>\n",
       "    <tr>\n",
       "      <th>3</th>\n",
       "      <td>Chelan</td>\n",
       "      <td>1279</td>\n",
       "    </tr>\n",
       "    <tr>\n",
       "      <th>4</th>\n",
       "      <td>Clallam</td>\n",
       "      <td>1253</td>\n",
       "    </tr>\n",
       "  </tbody>\n",
       "</table>\n",
       "</div>"
      ],
      "text/plain": [
       "    County   VIN\n",
       "0    Adams    66\n",
       "1   Asotin    87\n",
       "2   Benton  2624\n",
       "3   Chelan  1279\n",
       "4  Clallam  1253"
      ]
     },
     "execution_count": 6,
     "metadata": {},
     "output_type": "execute_result"
    }
   ],
   "source": [
    "# GroupBy County and Count VIN per county \n",
    "WAEV_bycou = WAEV_red.groupby([\"County\"])\n",
    "WAEV_bycou.count().reset_index().head()"
   ]
  },
  {
   "cell_type": "code",
   "execution_count": 7,
   "id": "cb06b70f-9da4-4ddc-bd7c-53affb371da7",
   "metadata": {},
   "outputs": [],
   "source": [
    "# Save GroupBy data to CSV\n",
    "WAEV_bycou.count().reset_index().to_csv(\"Resources/WAEV_BYCOU_TOTALS.csv\", index=True)"
   ]
  },
  {
   "cell_type": "code",
   "execution_count": 8,
   "id": "3160293b-da92-4d7b-befb-d1373d754106",
   "metadata": {},
   "outputs": [
    {
     "data": {
      "text/html": [
       "<div>\n",
       "<style scoped>\n",
       "    .dataframe tbody tr th:only-of-type {\n",
       "        vertical-align: middle;\n",
       "    }\n",
       "\n",
       "    .dataframe tbody tr th {\n",
       "        vertical-align: top;\n",
       "    }\n",
       "\n",
       "    .dataframe thead th {\n",
       "        text-align: right;\n",
       "    }\n",
       "</style>\n",
       "<table border=\"1\" class=\"dataframe\">\n",
       "  <thead>\n",
       "    <tr style=\"text-align: right;\">\n",
       "      <th></th>\n",
       "      <th>Unnamed: 0</th>\n",
       "      <th>County</th>\n",
       "      <th>VIN</th>\n",
       "    </tr>\n",
       "  </thead>\n",
       "  <tbody>\n",
       "    <tr>\n",
       "      <th>0</th>\n",
       "      <td>0</td>\n",
       "      <td>Adams</td>\n",
       "      <td>66</td>\n",
       "    </tr>\n",
       "    <tr>\n",
       "      <th>1</th>\n",
       "      <td>1</td>\n",
       "      <td>Asotin</td>\n",
       "      <td>87</td>\n",
       "    </tr>\n",
       "    <tr>\n",
       "      <th>2</th>\n",
       "      <td>2</td>\n",
       "      <td>Benton</td>\n",
       "      <td>2624</td>\n",
       "    </tr>\n",
       "    <tr>\n",
       "      <th>3</th>\n",
       "      <td>3</td>\n",
       "      <td>Chelan</td>\n",
       "      <td>1279</td>\n",
       "    </tr>\n",
       "    <tr>\n",
       "      <th>4</th>\n",
       "      <td>4</td>\n",
       "      <td>Clallam</td>\n",
       "      <td>1253</td>\n",
       "    </tr>\n",
       "  </tbody>\n",
       "</table>\n",
       "</div>"
      ],
      "text/plain": [
       "   Unnamed: 0   County   VIN\n",
       "0           0    Adams    66\n",
       "1           1   Asotin    87\n",
       "2           2   Benton  2624\n",
       "3           3   Chelan  1279\n",
       "4           4  Clallam  1253"
      ]
     },
     "execution_count": 8,
     "metadata": {},
     "output_type": "execute_result"
    }
   ],
   "source": [
    "# WA GroupBy County EV Data file path\n",
    "WAEV_path2 = \"Resources/WAEV_BYCOU_TOTALS.csv\"\n",
    "\n",
    "# Read the CSV into a Pandas DataFrame\n",
    "WAEV_COU_TOL = pd.read_csv(WAEV_path2, low_memory=False)\n",
    "\n",
    "WAEV_COU_TOL.head()"
   ]
  },
  {
   "cell_type": "code",
   "execution_count": 9,
   "id": "7d8da16d-5984-4877-abcc-202f40f791e2",
   "metadata": {},
   "outputs": [
    {
     "data": {
      "image/png": "[encoded data removed]",
      "text/plain": [
       "<Figure size 2000x800 with 1 Axes>"
      ]
     },
     "metadata": {},
     "output_type": "display_data"
    }
   ],
   "source": [
    "# Set x-axis and tick locations\n",
    "x_axis = np.arange(len(WAEV_COU_TOL))\n",
    "tick_locations = [value+0.4 for value in x_axis]\n",
    "\n",
    "# Creating the barchart\n",
    "plt.figure(figsize=(20,8))\n",
    "plt.bar(x_axis, WAEV_COU_TOL[\"VIN\"], color='r', alpha=0.5, align=\"edge\")\n",
    "plt.xticks(tick_locations, WAEV_COU_TOL[\"County\"], rotation=\"vertical\")\n",
    "\n",
    "\n",
    "# Set x and y limits\n",
    "plt.xlim(-0.25, len(x_axis))\n",
    "plt.ylim(0, max(WAEV_COU_TOL[\"VIN\"])+2000)\n",
    "\n",
    "# Set a Title and labels\n",
    "plt.title(\"Number of EVs per County\")\n",
    "plt.xlabel(\"County\")\n",
    "plt.ylabel(\"Number of EVs\")\n",
    "\n",
    "plt.tight_layout()\n",
    "plt.savefig(\"Images/WAEV_BYCOUNTY_BAR.png\")\n",
    "\n",
    "plt.show()"
   ]
  },
  {
   "cell_type": "code",
   "execution_count": null,
   "id": "635cf6a4-89a6-48a4-9429-22f7ba5fa073",
   "metadata": {},
   "outputs": [],
   "source": []
  }
 ],
 "metadata": {
  "kernelspec": {
   "display_name": "Python 3 (ipykernel)",
   "language": "python",
   "name": "python3"
  },
  "language_info": {
   "codemirror_mode": {
    "name": "ipython",
    "version": 3
   },
   "file_extension": ".py",
   "mimetype": "text/x-python",
   "name": "python",
   "nbconvert_exporter": "python",
   "pygments_lexer": "ipython3",
   "version": "3.10.14"
  }
 },
 "nbformat": 4,
 "nbformat_minor": 5
}
