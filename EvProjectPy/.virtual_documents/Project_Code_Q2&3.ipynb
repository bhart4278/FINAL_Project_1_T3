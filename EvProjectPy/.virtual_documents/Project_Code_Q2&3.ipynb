


import pandas as pd
from IPython.display import display
import os
import hvplot.pandas
import matplotlib.pyplot as plt
from bokeh.io import output_notebook
from scipy import stats
import numpy as np


# Get the current working directory
current_directory = os.getcwd()
print("Current Working Directory:", current_directory)
# My research questions are: Correlation of #EV per county vs income (scatter plot) and Correlation of #EV per county vs population size (scatter plot)


df1 = pd.read_csv("Resources/washington_income.csv")
df2 = pd.read_csv("Resources/washington_population.csv")
df3 = pd.read_csv("Resources/Electric_Vehicle_Population_Data.csv")




# Merge the first 2 dataframes
merged_df = pd.merge(df1, df2, on='County')
merged_df.head(5)


columns_list = merged_df.columns.tolist()
print(columns_list)


# drop unnecessary columns
new_df = merged_df.drop(columns=[' FIPS_x', ' FIPS_y', 'Value (Percent)', 'Rank within US (of 3142 counties)', 'Rank within US (of 3143 counties)'],)
# drop rows for Washington and United States so these totals don't interfere with future visualizations
new_df1 = new_df.drop(index=[0, 1])
new_df1.columns = ['County', 'Income', 'Population (Age 18-39)']
# Re-name every row under County so that the word County is deleted from each row
new_df1['County'] = new_df1['County'].str.replace(' County', '', regex=False)
new_df1.head(5)



# drop unnecessary columns
df3a = df3.filter(items=['County'])
# Count how many times each county appears in the EV df
counts = df3a['County'].value_counts()
print(counts)


# Merge EV data with Washington income/population data
ev_df = pd.merge(counts, new_df1, on='County', how='left')
ev_df = ev_df.rename(columns={'count': 'Electric Vehicles Count'})
display(ev_df)


# Drop columns with NaN values
ev_df_cleaned = ev_df.dropna(axis=0)

display(ev_df_cleaned.head(5))
# print(ev_df_cleaned['Electric Vehicles Count'].describe())



# convert Income and Electric Vehichles to numeric
ev_df_cleaned.loc[:, 'Income'] = pd.to_numeric(ev_df_cleaned.loc[:, 'Income'].str.replace(',', ''))


# Create a scatter plot showing Electric Vehicles vs. Income


ev_df_cleaned.plot.scatter(x='Income', y='Electric Vehicles Count', color='blue')
plt.xlim(40000, 120000) # income from 0-120,000
plt.ylim(0, 110000) # EV count from 0 to 110,000

x = pd.to_numeric(ev_df_cleaned['Income'], errors='coerce')
y = pd.to_numeric(ev_df_cleaned['Electric Vehicles Count'], errors='coerce')

slope, intercept = np.polyfit(x, y, 1)
regression_line = slope * x + intercept

plt.plot(x, regression_line, color='red', label='Regression Line')

# Calculate R-squared value
# Predicted values
y_pred = slope * x + intercept

# Total sum of squares (SST)
sst = np.sum((y - np.mean(y))**2)

# Residual sum of squares (SSR)
ssr = np.sum((y - y_pred)**2)

# R-squared
r_squared = 1 - (ssr / sst)

# Print R-squared value
print(f'R-squared: {r_squared:.4f}')

# Add title and labels
plt.title('Electric Vehicles Per County Vs. Median Income Per County ')
plt.xlabel('Income')
plt.ylabel('Electric Vehicles Count')

# Show the plot
plt.show()



# Create a scatter plot showing Electric Vehicles vs. Population 
ev_df_cleaned.plot.scatter(x='Population (Age 18-39)', y='Electric Vehicles Count', color='blue')
plt.xlim(0, 800000) # population 0 to 800,000
plt.ylim(0, 110000) # EV count from 0 to 110,000

x = pd.to_numeric(ev_df_cleaned['Population (Age 18-39)'], errors='coerce')
y = pd.to_numeric(ev_df_cleaned['Electric Vehicles Count'], errors='coerce')

slope, intercept = np.polyfit(x, y, 1)
regression_line = slope * x + intercept

plt.plot(x, regression_line, color='red', label='Regression Line')

# Calculate R-squared value
# Predicted values
y_pred = slope * x + intercept

# Total sum of squares (SST)
sst = np.sum((y - np.mean(y))**2)

# Residual sum of squares (SSR)
ssr = np.sum((y - y_pred)**2)

# R-squared
r_squared = 1 - (ssr / sst)

# Print R-squared value
print(f'R-squared: {r_squared:.4f}')
# Add title and labels
plt.title('Electric Vehicles Per County Vs. Population (Age 18-39)')
plt.xlabel('Population (Age 18-39)')
plt.ylabel('Electric Vehicles Count')

# Show the plot
plt.show()




