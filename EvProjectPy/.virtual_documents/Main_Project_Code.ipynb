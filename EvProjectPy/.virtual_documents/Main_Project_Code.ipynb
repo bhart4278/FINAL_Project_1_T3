





import matplotlib.pyplot as plt
import pandas as pd
import scipy.stats as st
from pathlib import Path
import numpy as np
from config import API_KEY
import requests
import os

# Data file path
EV_path = "Resources/Electric_Vehicle_Population_Data.csv"

# Read the CSV into a Pandas DataFrame
EV_df = pd.read_csv(EV_path, low_memory=False)

# Print the first five rows of data to the screen
EV_df.head()


# Create a field to keep tracl of both Make and Model of the EV and then grouped the initial dataset to the count per Make_Model to create the popularity bar chart
EV_df['Make_Model']=EV_df['Make']+' / ' +EV_df['Model']
groupedEV_count = EV_df.groupby('Make_Model')['VIN (1-10)'].count().reset_index(name='Count')
groupedEV_count.head()


# Values for the grouped EV dataframe were sorted and only the top 15 were kept to create the popularity bar graph
groupedEV_count = groupedEV_count.sort_values(by='Count', ascending=False)
popularEV_15=groupedEV_count.head(15)
popularEV_15.head(15)


# Create array for x-axis
x_axis = np.arange(len(popularEV_15))

# Tell matplotlib that we will be making a bar chart
# We apply align="center" to ensure our bars line up with our tick marks

bars = plt.bar(x_axis, popularEV_15["Count"], color='teal', alpha=0.5, align="center")

# Tell matplotlib where we would like to place each of our x axis headers
tick_locations = [value for value in x_axis]
plt.xticks(tick_locations,popularEV_15["Make_Model"] ,rotation=75)

# Give our chart some labels and a tile
plt.title("Top 15 Popular Electric Vehicles",color="teal",fontweight='bold')
plt.xlabel("EV Make_Models",color="teal")
plt.ylabel("#EV",color="teal")

# Add values on top of the bars
for bar in bars:
    yval = bar.get_height()  # Get the height of the bar
    plt.text(bar.get_x() + bar.get_width() / 2, yval, yval, 
             ha='center', va='bottom',fontsize=8,color="black")  # Add text at the top of the bar
    
plt.tight_layout()
plt.savefig("Outputs/Top15_Popular_EVs.png")
plt.show()



labels=popularEV_15['Make_Model']
sizes=popularEV_15['Count']
colors = [
    "teal",
    "cadetblue",
    "steelblue",
    "paleturquoise",
    "lightblue",
    "lightcyan",
    "darkgoldenrod",
    "goldenrod",
    "gold",
    "khaki",
    "burlywood",
    "navajowhite",
    "bisque",
    "linen",
    "whitesmoke"
]
plt.figure(figsize=(12, 8))
wedges, texts, autotexts = plt.pie(sizes, colors=colors, autopct='%1.0f%%', startangle=90)
plt.setp(texts, size=10)  # Set size of the labels
plt.setp(autotexts, size=8, weight='bold', color='black')  # Style the percentage labels
plt.legend(wedges, labels, title="Categories", loc="best", fontsize=10)
plt.axis("equal")
plt.savefig("Outputs/Top15_Popular_EVs%Pie.png")
plt.show()



# Narrowed down the initial list with only Make_Models that have an Electric Range >0 and created a summary statistics to determine which cars will be used for the Electric Range vs Poularity correlation
ev_popularity_stats=EV_df[EV_df["Electric Range"]>0]

summary_stats = ['mean','median','var','std','sem']
agg_ev_popularity=ev_popularity_stats.groupby(['Make_Model']).agg({'Electric Range': summary_stats})

agg_ev_popularity.columns = ['_'.join(col).strip() for col in agg_ev_popularity.columns.values]
agg_ev_popularity.to_csv("Outputs/summarystats.csv")
agg_ev_popularity


#Keep Make_models with sem <0.1
cars_for_correlation = agg_ev_popularity[agg_ev_popularity["Electric Range_sem"]<0.1]
selected_cars = cars_for_correlation.iloc[:,[0]]
selected_cars.head()


#Merge the selected cars and the grouped cars to create a table for the correlation 

merge = pd.merge(groupedEV_count,selected_cars, on='Make_Model', how='left')
merge1 = merge.dropna()
merge1=merge1.reset_index(drop=True)
#merge1


# Create x and y values for the correlation chart
x_values = merge1['Count']
y_values = merge1['Electric Range_mean']

# Perform a linear regression on Model Count vs. Average Range
(slope, intercept, rvalue, pvalue, stderr) = st.linregress(x_values, y_values)

# Get regression values
regress_values = x_values * slope + intercept
#print(regress_values)

# Create line equation string
line_eq = "y = " + str(round(slope,2)) + "x +" + str(round(intercept,2))
print(line_eq)

# Create Plot
plt.scatter(x_values,y_values)
plt.plot(x_values,regress_values,"r-")

# Label plot and annotate the line equation
plt.xlabel('EV Count')
plt.ylabel('Avg. Range')
plt.annotate(line_eq,(20,15),fontsize=15,color="red")
plt.title(f"EV Count vs Avg Range")

# Print r^2 value
print(f"The r^2-value is: {rvalue**2}")

# Show plot
plt.savefig("Outputs/EVcount_VS_AvgElectricRange.png")
plt.show()



# While it's not very high, 22% suggests that the model explains some variability, but there’s a significant amount of unexplained variance (78%). 
# This means other factors or variables not included in the model may play a role in influencing the "popularity" of EVs.























# Load the dataset from the URL
url = "https://data.wa.gov/api/views/f6w7-q2d2/rows.csv?accessType=DOWNLOAD"
ev_data = pd.read_csv(url)

# Inspect the dataset structure
ev_data.head()


# Your API key from AFDC
api_key = API_KEY

# Base URL for AFDC API
afdc_url = f"https://developer.nrel.gov/api/alt-fuel-stations/v1.json?api_key={API_KEY}&fuel_type=ELEC&state=WA"

# Fetch charging station data for Washington
response = requests.get(afdc_url)
if response.status_code == 200:
    charging_stations = response.json()
else:
    print("Error fetching data:", response.status_code)
    charging_stations = None




# Convert the response to a DataFrame for analysis
if charging_stations and 'fuel_stations' in charging_stations:
    charging_stations_df = pd.json_normalize(charging_stations['fuel_stations'], sep='_')
else:
    print("No 'fuel_stations' key in response.")


# Inspect relevant columns and handle NaN values
charging_stations_df = charging_stations_df[['station_name', 'city', 'ev_level1_evse_num', 'ev_level2_evse_num', 'ev_dc_fast_num']]
charging_stations_df.fillna(0, inplace=True)
print(charging_stations_df.head())

# Standardize 'city' columns in both datasets for merging
ev_data['City'] = ev_data['City'].str.lower()
charging_stations_df['city'] = charging_stations_df['city'].str.lower()


# Merge the datasets based on city
merged_data = pd.merge(ev_data, charging_stations_df, how='inner', left_on='City', right_on='city')

# Inspect the merged dataset
print(merged_data.head())


# Group by City to analyze the number of EVs and charging stations in each city
city_analysis = merged_data.groupby('City').agg({
    'VIN (1-10)': 'count',  # Assuming VIN column represents individual EVs
    'station_name': 'nunique',  # Counting unique charging stations
    'ev_level1_evse_num': 'sum',
    'ev_level2_evse_num': 'sum',
    'ev_dc_fast_num': 'sum'
}).rename(columns={'VIN (1-10)': 'EV_Count', 'station_name': 'Charging_Stations'})

# Calculate the ratio of EVs to charging stations
city_analysis['EVs_per_Station'] = city_analysis['EV_Count'] / city_analysis['Charging_Stations']

# Create an 'Outputs' folder if it doesn't exist
if not os.path.exists('Outputs'):
    os.makedirs('Outputs')


# Plot and save: Top 10 Cities with the highest EVs per charging station
ax1 = city_analysis.nlargest(10, 'EVs_per_Station').plot(kind='bar', y='EVs_per_Station', legend=False)
plt.title('Top 10 Cities: EVs per Charging Station')
plt.xlabel('City')
plt.ylabel('EVs per Charging Station')
plt.xticks(rotation=45, ha='right')
plt.savefig('Outputs/Top_10_Cities_EVs_per_Station.png', bbox_inches='tight')
plt.show()

# Plot and save: Total number of charging connectors by city (stacked)
ax2 = city_analysis[['ev_level1_evse_num', 'ev_level2_evse_num', 'ev_dc_fast_num']].nlargest(10, 'ev_level2_evse_num').plot(kind='bar', stacked=True)
plt.title('Top 10 Cities: Charging Connectors by Type')
plt.xlabel('City')
plt.ylabel('Number of Connectors')
plt.xticks(rotation=45, ha='right')
plt.savefig('Outputs/Top_10_Cities_Charging_Connectors_by_Type.png', bbox_inches='tight')
plt.show()


# 1. Get top 10 cities by EVs per charging station ratio
top_ev_station_cities = city_analysis.nlargest(10, 'EVs_per_Station')

# Display actual EVs per Station ratio for these top cities
print("Top 10 Cities: EVs per Charging Station Ratio")
print(top_ev_station_cities[['EV_Count', 'Charging_Stations', 'EVs_per_Station']])

# 2. Total charging connectors by type (Level 1, Level 2, and DC Fast) for the top 10 cities
connector_totals = top_ev_station_cities[['ev_level1_evse_num', 'ev_level2_evse_num', 'ev_dc_fast_num']].sum()
print("\nTotal Charging Connectors by Type for Top 10 Cities:")
print(connector_totals)

# 3. Average number of connectors per charging station in the top 10 cities
# Calculate connectors per station for each type in each city
top_ev_station_cities['Level1_per_Station'] = top_ev_station_cities['ev_level1_evse_num'] / top_ev_station_cities['Charging_Stations']
top_ev_station_cities['Level2_per_Station'] = top_ev_station_cities['ev_level2_evse_num'] / top_ev_station_cities['Charging_Stations']
top_ev_station_cities['DCFast_per_Station'] = top_ev_station_cities['ev_dc_fast_num'] / top_ev_station_cities['Charging_Stations']

# Display average connectors per station for the top cities
print("\nAverage Connectors per Charging Station in Top 10 Cities:")
print(top_ev_station_cities[['Level1_per_Station', 'Level2_per_Station', 'DCFast_per_Station']])

# Optionally, if you want to round the numbers for easier readability
top_ev_station_cities = top_ev_station_cities.round(2)






import pandas as pd
import matplotlib.pyplot as plt
import numpy as np
from pathlib import Path


# Load the dataset from the URL

url = "https://data.wa.gov/api/views/rpr4-cgyd/rows.csv?accessType=DOWNLOAD"
title_registration_data = pd.read_csv(url)

# Inspect the dataset structure
title_registration_data.head()


# Filter the dataset to only include rows where 'New or Used Vehicle' is 'New'
new_vehicles_data = title_registration_data[title_registration_data['New or Used Vehicle'] == 'New']

# Display the head of the filtered data
new_vehicles_data.head()


# Select only the relevant columns
cleaned_data = new_vehicles_data[['VIN (1-10)', 'DOL Vehicle ID', 'Model Year', 'Make', 'Model', 
                                        'New or Used Vehicle', 'Sale Date', 'Transaction Type', 
                                        'Transaction Date', 'Year', 'County', 'City', 'Postal Code']]

# Remove duplicates based on the 'VIN (1-10)' column
cleaned_new_vehicles = cleaned_data.drop_duplicates(subset='VIN (1-10)', keep='first').reset_index()

# Save the cleaned data to a new CSV file in 'Resources'
cleaned_new_vehicles.to_csv('Resources/cleaned_new_vehicle_data.csv', index=False)

# Display the first few rows of the cleaned dataset without duplicates
cleaned_new_vehicles


#File location
ev_file = Path("Resources/cleaned_new_vehicle_data.csv")
#Read in CSV and print df
new_evs = pd.read_csv(ev_file)
new_evs.head()


#Count number of individual years in the data set
new_evs['Year'].nunique()


#Group data by 'Year' and count occurences
vehicles_per_year = new_evs.groupby('Year').size()


#Plot a bar graph
vehicles_per_year.plot(kind='bar', color='g', edgecolor='black')
plt.title('Number of New Vehicles Purchased per Year in WA')
plt.xlabel('Model Year')
plt.ylabel('Number of New Vehicles Purchased')
plt.xticks(rotation=45)  
plt.grid(axis='y')  
plt.tight_layout()  
plt.savefig("Outputs/New_Vehicles_bar.png")
plt.show()



#Get the correlation coefficient between years and number of vehicles sold
vehicles_df = vehicles_per_year.reset_index(name='Number of Vehicles Sold')
correlation = vehicles_df['Year'].corr(vehicles_df['Number of Vehicles Sold'])
print(f"Correlation Coefficient between Year and Number of Vehicles Sold: {correlation:.2f}")

#Line graph of vehicle sales over time
new_evs['Transaction Date'] = pd.to_datetime(new_evs['Transaction Date'], errors='coerce')
sales_over_time = new_evs.groupby(new_evs['Transaction Date'].dt.year).size()

plt.figure(figsize=(10, 6))
sales_over_time.plot(kind='line', marker='o', color='r')
plt.title('Vehicle Sales Over Time in WA')
plt.xlabel('Year')
plt.ylabel('Number of Vehicles Sold')
plt.grid()
plt.savefig("Outputs/EV_sales_over_time.png")
plt.show()


#visualization of new vehicle purchases by county
vehicles_by_county = new_evs['County'].value_counts()
plt.figure(figsize=(12, 6))
vehicles_by_county.plot(kind='bar', color='lightgreen', edgecolor='black')
plt.title('Number of New Vehicles Purchased per WA County')
plt.xlabel('County')
plt.ylabel('Number of Vehicles Purchased')
plt.xticks(rotation=90)
plt.grid(axis='y')
plt.savefig("Outputs/New_EV_per_county.png")
plt.show()



